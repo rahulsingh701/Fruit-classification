{
 "cells": [
  {
   "cell_type": "code",
   "execution_count": 4,
   "id": "e0719747",
   "metadata": {},
   "outputs": [],
   "source": [
    "import numpy as np\n",
    "import tensorflow as tf\n",
    "from tensorflow.keras.models import load_model\n",
    "from keras.preprocessing.image import ImageDataGenerator\n",
    "from keras.preprocessing import image\n"
   ]
  },
  {
   "cell_type": "code",
   "execution_count": 5,
   "id": "901786b6",
   "metadata": {},
   "outputs": [
    {
     "name": "stdout",
     "output_type": "stream",
     "text": [
      "Found 10901 images belonging to 6 classes.\n",
      "Found 2698 images belonging to 6 classes.\n"
     ]
    }
   ],
   "source": [
    "train_datagen = ImageDataGenerator(rescale = 1./255,\n",
    "                                   shear_range = 0.2,\n",
    "                                   zoom_range = 0.2,\n",
    "                                   horizontal_flip = True)\n",
    "training_set = train_datagen.flow_from_directory('D:/ESSLAB/dataset/dataset/train',\n",
    "                                                 target_size = (128, 128),\n",
    "                                                 batch_size = 32,\n",
    "                                                 class_mode = 'categorical')\n",
    "\n",
    "# Preprocessing the Test set\n",
    "test_datagen = ImageDataGenerator(rescale = 1./255)\n",
    "test_set = test_datagen.flow_from_directory('D:/ESSLAB/dataset/dataset/test',\n",
    "                                            target_size = (128, 128),\n",
    "                                            batch_size = 32,\n",
    "                                            class_mode = 'categorical')"
   ]
  },
  {
   "cell_type": "code",
   "execution_count": 6,
   "id": "6de84785",
   "metadata": {},
   "outputs": [],
   "source": [
    "model = load_model('D:/ESSLAB/fruit.hdf5',compile=False)"
   ]
  },
  {
   "cell_type": "code",
   "execution_count": 49,
   "id": "3853e348",
   "metadata": {},
   "outputs": [
    {
     "name": "stdout",
     "output_type": "stream",
     "text": [
      "{'freshapples': 0, 'freshbanana': 1, 'freshoranges': 2, 'rottenapples': 3, 'rottenbanana': 4, 'rottenoranges': 5}\n",
      "[0]\n",
      "Fresh Apple\n"
     ]
    }
   ],
   "source": [
    "print(training_set.class_indices)\n",
    "test_image = image.load_img('D:/ESSLAB/GOOD_APPLE/ag (10).jpg', target_size = (128, 128))\n",
    "test_image = image.img_to_array(test_image)\n",
    "test_image = np.expand_dims(test_image, axis = 0)\n",
    "result = model.predict(test_image)\n",
    "#print(result)\n",
    "var = result.argmax(axis=1)\n",
    "print(var)\n",
    "#print(training_set.class_indices)\n",
    "if result[0][0] == 1:\n",
    "    prediction = 'Fresh Apple'\n",
    "elif result[0][1] == 1:\n",
    "    prediction = 'Fresh Banana'\n",
    "elif result [0][2] == 1:\n",
    "    prediction = 'Fresh Orange'\n",
    "elif result [0][3] == 1:\n",
    "    prediction = 'Rotten Apple'\n",
    "elif result [0][4] == 1:\n",
    "    prediction = 'Rotten banana'\n",
    "elif result [0][5] == 1:\n",
    "    prediction = 'rotten orange'\n",
    "print(prediction)\n"
   ]
  },
  {
   "cell_type": "code",
   "execution_count": null,
   "id": "81496ad5",
   "metadata": {},
   "outputs": [],
   "source": []
  }
 ],
 "metadata": {
  "kernelspec": {
   "display_name": "Python 3",
   "language": "python",
   "name": "python3"
  },
  "language_info": {
   "codemirror_mode": {
    "name": "ipython",
    "version": 3
   },
   "file_extension": ".py",
   "mimetype": "text/x-python",
   "name": "python",
   "nbconvert_exporter": "python",
   "pygments_lexer": "ipython3",
   "version": "3.7.10"
  }
 },
 "nbformat": 4,
 "nbformat_minor": 5
}
